{
 "cells": [
  {
   "cell_type": "markdown",
   "metadata": {},
   "source": [
    "## Key Dates\n",
    "In order to fully analyse the risk and rewards of this stock, we have prepared a collection of **Key Dates** in compliance with the firm's protocols."
   ]
  },
  {
   "cell_type": "code",
   "execution_count": 10,
   "metadata": {},
   "outputs": [
    {
     "data": {
      "application/vnd.microsoft.datawrangler.viewer.v0+json": {
       "columns": [
        {
         "name": "index",
         "rawType": "int64",
         "type": "integer"
        },
        {
         "name": "Date",
         "rawType": "datetime64[ns]",
         "type": "datetime"
        },
        {
         "name": "Close",
         "rawType": "float64",
         "type": "float"
        },
        {
         "name": "High",
         "rawType": "float64",
         "type": "float"
        },
        {
         "name": "Low",
         "rawType": "float64",
         "type": "float"
        },
        {
         "name": "Open",
         "rawType": "float64",
         "type": "float"
        },
        {
         "name": "Volume",
         "rawType": "float64",
         "type": "float"
        }
       ],
       "ref": "823ab0cd-a00f-4b7a-a695-fc54f4a2b4a0",
       "rows": [
        [
         "0",
         "2020-12-09 00:00:00",
         "189.5099945068359",
         "195.5",
         "163.8000030517578",
         "182.0",
         "25373700.0"
        ],
        [
         "1",
         "2020-12-10 00:00:00",
         "186.0",
         "187.69500732421875",
         "172.63600158691406",
         "179.7100067138672",
         null
        ],
        [
         "2",
         "2020-12-11 00:00:00",
         "175.0",
         "182.0",
         "168.25",
         "176.52000427246094",
         "4760600.0"
        ],
        [
         "3",
         "2020-12-14 00:00:00",
         "160.0",
         "170.0",
         "151.1999969482422",
         "169.10000610351562",
         "7859600.0"
        ],
        [
         "4",
         "2020-12-15 00:00:00",
         "158.88999938964844",
         "161.4199981689453",
         "153.75999450683594",
         "157.10000610351562",
         "5017000.0"
        ],
        [
         "5",
         "2020-12-15 00:00:00",
         "158.88999938964844",
         "161.4199981689453",
         "153.75999450683594",
         "157.10000610351562",
         "5017000.0"
        ],
        [
         "6",
         "2020-12-16 00:00:00",
         "158.0500030517578",
         "167.47000122070312",
         "157.1999969482422",
         "161.17999267578125",
         "3061300.0"
        ],
        [
         "7",
         "2020-12-17 00:00:00",
         "154.2100067138672",
         "161.66000366210938",
         null,
         "159.10000610351562",
         "6369800.0"
        ],
        [
         "8",
         "2020-12-18 00:00:00",
         "166.35000610351562",
         "169.9499969482422",
         "147.32000732421875",
         "154.2100067138672",
         "8157800.0"
        ],
        [
         "9",
         "2020-12-21 00:00:00",
         "160.22999572753906",
         "173.4600067138672",
         "155.0",
         "169.07000732421875",
         "3884200.0"
        ],
        [
         "10",
         "2020-12-22 00:00:00",
         "156.7899932861328",
         "163.2100067138672",
         "153.4219970703125",
         "161.0500030517578",
         "2386700.0"
        ],
        [
         "11",
         "2020-12-23 00:00:00",
         "158.22000122070312",
         "161.55999755859375",
         "150.25",
         "155.0",
         "1759900.0"
        ],
        [
         "12",
         "2020-12-24 00:00:00",
         "158.4600067138672",
         "158.60000610351562",
         "153.07000732421875",
         "157.3800048828125",
         "673000.0"
        ],
        [
         "13",
         "2020-12-28 00:00:00",
         "147.88999938964844",
         "158.4499969482422",
         "141.5050048828125",
         "158.25",
         "3807700.0"
        ],
        [
         "14",
         "2020-12-29 00:00:00",
         "141.27000427246094",
         "147.39999389648438",
         "139.63999938964844",
         "146.1199951171875",
         "3849500.0"
        ],
        [
         "15",
         "2020-12-30 00:00:00",
         "140.1999969482422",
         "147.97999572753906",
         "139.8000030517578",
         "144.39999389648438",
         "3121100.0"
        ],
        [
         "16",
         "2020-12-31 00:00:00",
         "142.75",
         "146.5",
         "135.3800048828125",
         "140.1999969482422",
         "2637300.0"
        ],
        [
         "17",
         "2021-01-04 00:00:00",
         "139.19000244140625",
         "143.6199951171875",
         "137.1699981689453",
         "142.5",
         "2026400.0"
        ],
        [
         "18",
         "2021-01-05 00:00:00",
         "144.42999267578125",
         "146.1199951171875",
         "137.8350067138672",
         "138.0",
         "1031800.0"
        ],
        [
         "19",
         "2021-01-06 00:00:00",
         "140.00999450683594",
         "142.0",
         "138.2100067138672",
         "141.27000427246094",
         "1931400.0"
        ],
        [
         "20",
         "2021-01-07 00:00:00",
         "152.77000427246094",
         "154.63999938964844",
         "139.43499755859375",
         "140.0",
         "3215200.0"
        ],
        [
         "21",
         "2021-01-08 00:00:00",
         "156.08999633789062",
         "158.30999755859375",
         "147.3000030517578",
         "152.0",
         "2548700.0"
        ],
        [
         "22",
         "2021-01-11 00:00:00",
         "167.0",
         "169.0",
         "153.19000244140625",
         "153.19000244140625",
         "2541300.0"
        ],
        [
         "23",
         "2021-01-12 00:00:00",
         "191.9900054931641",
         "201.92999267578125",
         "162.61500549316406",
         "165.5",
         "7081800.0"
        ],
        [
         "24",
         "2021-01-13 00:00:00",
         null,
         "215.5",
         "188.07000732421875",
         "192.41000366210932",
         "6058800.0"
        ],
        [
         "25",
         "2021-01-14 00:00:00",
         "207.2400054931641",
         "221.3999938964844",
         "195.3300018310547",
         "196.6199951171875",
         "4512000.0"
        ],
        [
         "26",
         "2021-01-15 00:00:00",
         "187.1499938964844",
         "212.08999633789065",
         "186.9499969482422",
         "207.0",
         "3351100.0"
        ],
        [
         "27",
         "2021-01-19 00:00:00",
         "198.75",
         "202.3000030517578",
         "185.5399932861328",
         "191.19000244140625",
         "3486200.0"
        ],
        [
         "28",
         "2021-01-20 00:00:00",
         "189.4600067138672",
         "203.82000732421875",
         "189.0399932861328",
         "200.0",
         "2066400.0"
        ],
        [
         "29",
         "2021-01-21 00:00:00",
         "190.88999938964844",
         "195.4739990234375",
         "183.1929931640625",
         "191.6100006103516",
         "2339400.0"
        ],
        [
         "30",
         "2021-01-22 00:00:00",
         "192.0",
         "197.07000732421875",
         "187.1100006103516",
         "190.1999969482422",
         "1679500.0"
        ],
        [
         "31",
         "2021-01-25 00:00:00",
         "191.80999755859372",
         "215.38999938964844",
         "191.30999755859372",
         "194.3300018310547",
         "3430400.0"
        ],
        [
         "32",
         "2021-01-25 00:00:00",
         "191.80999755859372",
         "215.38999938964844",
         "191.30999755859372",
         "194.3300018310547",
         "3430400.0"
        ],
        [
         "33",
         "2021-01-26 00:00:00",
         "198.22000122070312",
         "204.3800048828125",
         "196.41000366210932",
         "198.0",
         "2363000.0"
        ],
        [
         "34",
         "2021-01-27 00:00:00",
         "193.07000732421875",
         "256.0899963378906",
         "190.3999938964844",
         "200.0",
         "5918300.0"
        ],
        [
         "35",
         "2021-01-28 00:00:00",
         "183.8000030517578",
         "201.5",
         "183.47999572753903",
         "198.9900054931641",
         "1693000.0"
        ],
        [
         "36",
         "2021-01-29 00:00:00",
         "193.27000427246097",
         "194.9900054931641",
         "183.47999572753903",
         "189.3999938964844",
         "1851500.0"
        ],
        [
         "37",
         "2021-02-01 00:00:00",
         "191.1699981689453",
         "203.6699981689453",
         "187.56300354003903",
         "194.58999633789065",
         "1170100.0"
        ],
        [
         "38",
         "2021-02-02 00:00:00",
         "182.52999877929688",
         "197.6000061035156",
         "181.6300048828125",
         "191.9499969482422",
         "1338900.0"
        ],
        [
         "39",
         "2021-02-03 00:00:00",
         "180.5800018310547",
         "186.66000366210932",
         "178.3260040283203",
         "184.66000366210932",
         "1326100.0"
        ],
        [
         "40",
         "2021-02-04 00:00:00",
         "189.3300018310547",
         "191.8769989013672",
         "180.6499938964844",
         "181.3800048828125",
         "1142100.0"
        ],
        [
         "41",
         "2021-02-05 00:00:00",
         null,
         "190.91600036621097",
         "180.2449951171875",
         "189.57000732421875",
         "1521400.0"
        ],
        [
         "42",
         "2021-02-08 00:00:00",
         "177.42999267578125",
         "185.4900054931641",
         "174.2100067138672",
         "183.4499969482422",
         "1998000.0"
        ],
        [
         "43",
         "2021-02-09 00:00:00",
         "187.75",
         "192.27999877929688",
         "177.60000610351562",
         "177.7100067138672",
         "2137000.0"
        ],
        [
         "44",
         "2021-02-10 00:00:00",
         "215.16000366210932",
         "215.67999267578125",
         "190.0",
         "190.66000366210932",
         "3996900.0"
        ],
        [
         "45",
         "2021-02-11 00:00:00",
         "213.2599945068359",
         "222.0",
         "208.5",
         "208.5",
         "1949000.0"
        ],
        [
         "46",
         "2021-02-12 00:00:00",
         "202.97000122070312",
         "213.5399932861328",
         "202.5099945068359",
         "213.02999877929688",
         "1376300.0"
        ],
        [
         "47",
         "2021-02-16 00:00:00",
         "212.1699981689453",
         "226.47000122070312",
         "205.0",
         "205.6000061035156",
         "2663400.0"
        ],
        [
         "48",
         "2021-02-17 00:00:00",
         "197.8699951171875",
         "213.82000732421875",
         "194.08999633789065",
         "213.82000732421875",
         "2013900.0"
        ],
        [
         "49",
         "2021-02-18 00:00:00",
         "200.05999755859372",
         "201.41000366210932",
         "188.91000366210932",
         "194.3000030517578",
         "1728200.0"
        ]
       ],
       "shape": {
        "columns": 6,
        "rows": 1184
       }
      },
      "text/html": [
       "<div>\n",
       "<style scoped>\n",
       "    .dataframe tbody tr th:only-of-type {\n",
       "        vertical-align: middle;\n",
       "    }\n",
       "\n",
       "    .dataframe tbody tr th {\n",
       "        vertical-align: top;\n",
       "    }\n",
       "\n",
       "    .dataframe thead th {\n",
       "        text-align: right;\n",
       "    }\n",
       "</style>\n",
       "<table border=\"1\" class=\"dataframe\">\n",
       "  <thead>\n",
       "    <tr style=\"text-align: right;\">\n",
       "      <th></th>\n",
       "      <th>Date</th>\n",
       "      <th>Close</th>\n",
       "      <th>High</th>\n",
       "      <th>Low</th>\n",
       "      <th>Open</th>\n",
       "      <th>Volume</th>\n",
       "    </tr>\n",
       "  </thead>\n",
       "  <tbody>\n",
       "    <tr>\n",
       "      <th>0</th>\n",
       "      <td>2020-12-09</td>\n",
       "      <td>189.509995</td>\n",
       "      <td>195.500000</td>\n",
       "      <td>163.800003</td>\n",
       "      <td>182.000000</td>\n",
       "      <td>25373700.0</td>\n",
       "    </tr>\n",
       "    <tr>\n",
       "      <th>1</th>\n",
       "      <td>2020-12-10</td>\n",
       "      <td>186.000000</td>\n",
       "      <td>187.695007</td>\n",
       "      <td>172.636002</td>\n",
       "      <td>179.710007</td>\n",
       "      <td>NaN</td>\n",
       "    </tr>\n",
       "    <tr>\n",
       "      <th>2</th>\n",
       "      <td>2020-12-11</td>\n",
       "      <td>175.000000</td>\n",
       "      <td>182.000000</td>\n",
       "      <td>168.250000</td>\n",
       "      <td>176.520004</td>\n",
       "      <td>4760600.0</td>\n",
       "    </tr>\n",
       "    <tr>\n",
       "      <th>3</th>\n",
       "      <td>2020-12-14</td>\n",
       "      <td>160.000000</td>\n",
       "      <td>170.000000</td>\n",
       "      <td>151.199997</td>\n",
       "      <td>169.100006</td>\n",
       "      <td>7859600.0</td>\n",
       "    </tr>\n",
       "    <tr>\n",
       "      <th>4</th>\n",
       "      <td>2020-12-15</td>\n",
       "      <td>158.889999</td>\n",
       "      <td>161.419998</td>\n",
       "      <td>153.759995</td>\n",
       "      <td>157.100006</td>\n",
       "      <td>5017000.0</td>\n",
       "    </tr>\n",
       "    <tr>\n",
       "      <th>...</th>\n",
       "      <td>...</td>\n",
       "      <td>...</td>\n",
       "      <td>...</td>\n",
       "      <td>...</td>\n",
       "      <td>...</td>\n",
       "      <td>...</td>\n",
       "    </tr>\n",
       "    <tr>\n",
       "      <th>1179</th>\n",
       "      <td>2025-06-09</td>\n",
       "      <td>217.490005</td>\n",
       "      <td>219.830002</td>\n",
       "      <td>216.955002</td>\n",
       "      <td>218.029999</td>\n",
       "      <td>2710300.0</td>\n",
       "    </tr>\n",
       "    <tr>\n",
       "      <th>1180</th>\n",
       "      <td>2025-06-10</td>\n",
       "      <td>214.970001</td>\n",
       "      <td>219.210007</td>\n",
       "      <td>210.927002</td>\n",
       "      <td>216.589996</td>\n",
       "      <td>3916700.0</td>\n",
       "    </tr>\n",
       "    <tr>\n",
       "      <th>1181</th>\n",
       "      <td>2025-06-11</td>\n",
       "      <td>217.800003</td>\n",
       "      <td>219.529999</td>\n",
       "      <td>212.240005</td>\n",
       "      <td>214.184998</td>\n",
       "      <td>3091500.0</td>\n",
       "    </tr>\n",
       "    <tr>\n",
       "      <th>1182</th>\n",
       "      <td>2025-06-12</td>\n",
       "      <td>216.600006</td>\n",
       "      <td>219.419998</td>\n",
       "      <td>215.675003</td>\n",
       "      <td>218.080002</td>\n",
       "      <td>2510400.0</td>\n",
       "    </tr>\n",
       "    <tr>\n",
       "      <th>1183</th>\n",
       "      <td>2025-06-13</td>\n",
       "      <td>218.119995</td>\n",
       "      <td>218.299896</td>\n",
       "      <td>213.000000</td>\n",
       "      <td>214.190002</td>\n",
       "      <td>616326.0</td>\n",
       "    </tr>\n",
       "  </tbody>\n",
       "</table>\n",
       "<p>1184 rows × 6 columns</p>\n",
       "</div>"
      ],
      "text/plain": [
       "           Date       Close        High         Low        Open      Volume\n",
       "0    2020-12-09  189.509995  195.500000  163.800003  182.000000  25373700.0\n",
       "1    2020-12-10  186.000000  187.695007  172.636002  179.710007         NaN\n",
       "2    2020-12-11  175.000000  182.000000  168.250000  176.520004   4760600.0\n",
       "3    2020-12-14  160.000000  170.000000  151.199997  169.100006   7859600.0\n",
       "4    2020-12-15  158.889999  161.419998  153.759995  157.100006   5017000.0\n",
       "...         ...         ...         ...         ...         ...         ...\n",
       "1179 2025-06-09  217.490005  219.830002  216.955002  218.029999   2710300.0\n",
       "1180 2025-06-10  214.970001  219.210007  210.927002  216.589996   3916700.0\n",
       "1181 2025-06-11  217.800003  219.529999  212.240005  214.184998   3091500.0\n",
       "1182 2025-06-12  216.600006  219.419998  215.675003  218.080002   2510400.0\n",
       "1183 2025-06-13  218.119995  218.299896  213.000000  214.190002    616326.0\n",
       "\n",
       "[1184 rows x 6 columns]"
      ]
     },
     "execution_count": 10,
     "metadata": {},
     "output_type": "execute_result"
    }
   ],
   "source": [
    "import pandas as pd\n",
    "\n",
    "df = pd.read_csv(\"DASH_A1.csv\")\n",
    "df['Date'] = pd.to_datetime(df['Date'], dayfirst=True)\n",
    "df.sort_values('Date', inplace=True)\n",
    "df.reset_index(drop=True, inplace=True)\n",
    "df\n",
    "\n",
    "\n",
    "\n"
   ]
  },
  {
   "cell_type": "markdown",
   "metadata": {},
   "source": [
    "Prior to any analysis, we must first create a few crucial columns of data required. Below, we create the 'Daily Return' and 'Volatility' columns in order to identify momentary **surges** and **drops** in prices and volume and annual trends."
   ]
  },
  {
   "cell_type": "code",
   "execution_count": 2,
   "metadata": {},
   "outputs": [
    {
     "name": "stderr",
     "output_type": "stream",
     "text": [
      "/tmp/ipykernel_1773/573983422.py:1: FutureWarning: The default fill_method='pad' in Series.pct_change is deprecated and will be removed in a future version. Either fill in any non-leading NA values prior to calling pct_change or specify 'fill_method=None' to not fill NA values.\n",
      "  df[\"Daily Return\"] = df[\"Close\"].pct_change()\n"
     ]
    }
   ],
   "source": [
    "df[\"Daily Return\"] = df[\"Close\"].pct_change() \n",
    "df[\"Volatility\"] = df[\"Daily Return\"].rolling(window=20).std() \n",
    "df[\"Year\"] = df[\"Date\"].dt.year \n",
    "df = df.dropna(subset=[\"Daily Return\", \"Volatility\"]) "
   ]
  },
  {
   "cell_type": "markdown",
   "metadata": {},
   "source": [
    "As a recent IPO, **volatility** is of particular interest in our analysis. Below, you will find the dates with the highest volatility."
   ]
  },
  {
   "cell_type": "code",
   "execution_count": 3,
   "metadata": {},
   "outputs": [
    {
     "name": "stdout",
     "output_type": "stream",
     "text": [
      "      Year Highest Volatility Date  Highest Volatility Value\n",
      "113   2021              2021-05-19                  0.067188\n",
      "389   2022              2022-06-01                  0.080631\n",
      "581   2023              2023-02-23                  0.047312\n",
      "958   2024              2024-08-05                  0.033216\n",
      "1147  2025              2025-04-24                  0.047637\n"
     ]
    }
   ],
   "source": [
    "highest_vol = df.loc[df.groupby(\"Year\")[\"Volatility\"].idxmax(), [\"Year\", \"Date\", \"Volatility\"]] #For every year, we find the highest volatilty date and value.\n",
    "highest_vol.columns = [\"Year\", \"Highest Volatility Date\", \"Highest Volatility Value\"] #We assign the column names.\n",
    "print(highest_vol)"
   ]
  },
  {
   "cell_type": "markdown",
   "metadata": {},
   "source": [
    "We can see from these values that volatility spikes have trended down over the past five years, signalling a gradual stabilisation of the equity."
   ]
  },
  {
   "cell_type": "markdown",
   "metadata": {},
   "source": [
    "This trend is further echoed in the annual price surges and drops, where drops saw a reduction of 40% and surges reduced by 37.8% in magnitude."
   ]
  },
  {
   "cell_type": "code",
   "execution_count": 4,
   "metadata": {},
   "outputs": [
    {
     "name": "stdout",
     "output_type": "stream",
     "text": [
      "      Year Largest Surge Date  Largest Surge Return\n",
      "110   2021         2021-05-14              0.221491\n",
      "333   2022         2022-03-16              0.134512\n",
      "759   2023         2023-11-02              0.156653\n",
      "957   2024         2024-08-02              0.083457\n",
      "1136  2025         2025-04-09              0.137738\n"
     ]
    }
   ],
   "source": [
    "largest_surge = df.loc[df.groupby(\"Year\")[\"Daily Return\"].idxmax(), [\"Year\", \"Date\", \"Daily Return\"]] #For every year, we find the highest surge date and value.\n",
    "largest_surge.columns = [\"Year\", \"Largest Surge Date\", \"Largest Surge Return\"] #We assign the column names.\n",
    "print(largest_surge)"
   ]
  },
  {
   "cell_type": "code",
   "execution_count": 5,
   "metadata": {},
   "outputs": [
    {
     "name": "stdout",
     "output_type": "stream",
     "text": [
      "      Year Largest Drop Date  Largest Drop Return\n",
      "51    2021        2021-02-22            -0.135457\n",
      "374   2022        2022-05-11            -0.131621\n",
      "578   2023        2023-02-17            -0.075946\n",
      "890   2024        2024-05-02            -0.103170\n",
      "1132  2025        2025-04-03            -0.080634\n"
     ]
    }
   ],
   "source": [
    "largest_drop = df.loc[df.groupby(\"Year\")[\"Daily Return\"].idxmin(), [\"Year\", \"Date\", \"Daily Return\"]]\n",
    "largest_drop.columns = [\"Year\", \"Largest Drop Date\", \"Largest Drop Return\"]\n",
    "print(largest_drop)"
   ]
  },
  {
   "cell_type": "markdown",
   "metadata": {},
   "source": [
    "Furthermore we find from the following **Volume** analysis that greater market participation can be observed over the past five years, spiking heavily in 2025 with over 73 million stocks traded in one day."
   ]
  },
  {
   "cell_type": "code",
   "execution_count": 6,
   "metadata": {},
   "outputs": [
    {
     "name": "stdout",
     "output_type": "stream",
     "text": [
      "      Year Highest Volume Date  Highest Volume\n",
      "62    2021          2021-03-09      20400000.0\n",
      "315   2022          2022-02-17      47405700.0\n",
      "790   2023          2023-12-15      30556000.0\n",
      "890   2024          2024-05-02      22134800.0\n",
      "1123  2025          2025-03-21      73637400.0\n"
     ]
    }
   ],
   "source": [
    "highest_volume = df.loc[df.groupby(\"Year\")[\"Volume\"].idxmax(), [\"Year\", \"Date\", \"Volume\"]] #For every year, we find the highest volume date and value.\n",
    "highest_volume.columns = [\"Year\", \"Highest Volume Date\", \"Highest Volume\"] #We assign the column names.\n",
    "print(highest_volume)"
   ]
  },
  {
   "cell_type": "markdown",
   "metadata": {},
   "source": [
    "Stock price saw a tumultous downward fluctuation but has recovered from the losses observed between and 2024. The **highest** and **lowest** annual stock price reflects this and is likely due to the uncertainty around the company following the end of COVID-19 lockdowns."
   ]
  },
  {
   "cell_type": "code",
   "execution_count": 7,
   "metadata": {},
   "outputs": [
    {
     "name": "stdout",
     "output_type": "stream",
     "text": [
      "      Year Highest High Date  Highest High Value\n",
      "248   2021        2021-11-15          257.250000\n",
      "289   2022        2022-01-12          152.494995\n",
      "786   2023        2023-12-11          103.980003\n",
      "1057  2024        2024-12-17          181.779999\n",
      "1178  2025        2025-06-06          220.880005\n",
      "      Year Lowest Low Date  Lowest Low Value\n",
      "109   2021      2021-05-13        110.129997\n",
      "494   2022      2022-10-24         41.365002\n",
      "549   2023      2023-01-06         45.931999\n",
      "802   2024      2024-01-04         93.330002\n",
      "1134  2025      2025-04-07        155.399994\n"
     ]
    }
   ],
   "source": [
    "highest_high = df.loc[df.groupby(\"Year\")[\"High\"].idxmax(), [\"Year\", \"Date\", \"High\"]] \n",
    "highest_high.columns = [\"Year\", \"Highest High Date\", \"Highest High Value\"]\n",
    "lowest_low = df.loc[df.groupby(\"Year\")[\"Low\"].idxmin(), [\"Year\", \"Date\", \"Low\"]]\n",
    "lowest_low.columns = [\"Year\", \"Lowest Low Date\", \"Lowest Low Value\"]\n",
    "print(highest_high)\n",
    "print(lowest_low)"
   ]
  },
  {
   "cell_type": "markdown",
   "metadata": {},
   "source": [
    "When looking at the **Open** and **Close** prices of each year, we see that our prior observation is confirmed. Stock prices opened and closed strongly in 2021, but dipped throughout 2022 - 2024. The trend is reversed by the **Close** of 2024. This signals strong confidence in the company's reinvention and renewed corporate strategy following the sharp decline in usage in the early post-Covid years."
   ]
  },
  {
   "cell_type": "code",
   "execution_count": 8,
   "metadata": {},
   "outputs": [
    {
     "name": "stdout",
     "output_type": "stream",
     "text": [
      "   Year  Annual Open Price\n",
      "0  2021         140.000000\n",
      "1  2022         149.610001\n",
      "2  2023          49.980000\n",
      "3  2024          97.800003\n",
      "4  2025         168.789993\n",
      "   Year  Annual Close Price\n",
      "0  2021          148.899994\n",
      "1  2022           48.820000\n",
      "2  2023           98.889999\n",
      "3  2024          167.750000\n",
      "4  2025          218.119995\n"
     ]
    }
   ],
   "source": [
    "annual_open = df.groupby(\"Year\").first().reset_index()[[\"Year\", \"Open\"]]\n",
    "annual_open.columns = [\"Year\", \"Annual Open Price\"]\n",
    "annual_close = df.groupby(\"Year\").last().reset_index()[[\"Year\", \"Close\"]]\n",
    "annual_close.columns = [\"Year\", \"Annual Close Price\"]\n",
    "print(annual_open)\n",
    "print(annual_close)"
   ]
  },
  {
   "cell_type": "markdown",
   "metadata": {},
   "source": [
    "To summarise our **Key Dates** findings, we have merged all of our aforementioned data sets in the following table."
   ]
  },
  {
   "cell_type": "code",
   "execution_count": 9,
   "metadata": {},
   "outputs": [
    {
     "data": {
      "application/vnd.microsoft.datawrangler.viewer.v0+json": {
       "columns": [
        {
         "name": "index",
         "rawType": "int64",
         "type": "integer"
        },
        {
         "name": "Year",
         "rawType": "int32",
         "type": "integer"
        },
        {
         "name": "Highest Volatility Date",
         "rawType": "datetime64[ns]",
         "type": "datetime"
        },
        {
         "name": "Highest Volatility Value",
         "rawType": "float64",
         "type": "float"
        },
        {
         "name": "Largest Surge Date",
         "rawType": "datetime64[ns]",
         "type": "datetime"
        },
        {
         "name": "Largest Surge Return",
         "rawType": "float64",
         "type": "float"
        },
        {
         "name": "Largest Drop Date",
         "rawType": "datetime64[ns]",
         "type": "datetime"
        },
        {
         "name": "Largest Drop Return",
         "rawType": "float64",
         "type": "float"
        },
        {
         "name": "Highest Volume Date",
         "rawType": "datetime64[ns]",
         "type": "datetime"
        },
        {
         "name": "Highest Volume",
         "rawType": "float64",
         "type": "float"
        },
        {
         "name": "Highest High Date",
         "rawType": "datetime64[ns]",
         "type": "datetime"
        },
        {
         "name": "Highest High Value",
         "rawType": "float64",
         "type": "float"
        },
        {
         "name": "Lowest Low Date",
         "rawType": "datetime64[ns]",
         "type": "datetime"
        },
        {
         "name": "Lowest Low Value",
         "rawType": "float64",
         "type": "float"
        },
        {
         "name": "Annual Open Price",
         "rawType": "float64",
         "type": "float"
        },
        {
         "name": "Annual Close Price",
         "rawType": "float64",
         "type": "float"
        }
       ],
       "ref": "698a79b0-442a-4ff9-b088-cb3f1912c637",
       "rows": [
        [
         "0",
         "2021",
         "2021-05-19 00:00:00",
         "0.06718750166942679",
         "2021-05-14 00:00:00",
         "0.22149112419781214",
         "2021-02-22 00:00:00",
         "-0.1354565894602714",
         "2021-03-09 00:00:00",
         "20400000.0",
         "2021-11-15 00:00:00",
         "257.25",
         "2021-05-13 00:00:00",
         "110.12999725341795",
         "140.0",
         "148.89999389648438"
        ],
        [
         "1",
         "2022",
         "2022-06-01 00:00:00",
         "0.08063114850639279",
         "2022-03-16 00:00:00",
         "0.1345117689417159",
         "2022-05-11 00:00:00",
         "-0.13162119682524553",
         "2022-02-17 00:00:00",
         "47405700.0",
         "2022-01-12 00:00:00",
         "152.4949951171875",
         "2022-10-24 00:00:00",
         "41.3650016784668",
         "149.61000061035156",
         "48.81999969482422"
        ],
        [
         "2",
         "2023",
         "2023-02-23 00:00:00",
         "0.047312019939774144",
         "2023-11-02 00:00:00",
         "0.1566534802452464",
         "2023-02-17 00:00:00",
         "-0.07594555333698472",
         "2023-12-15 00:00:00",
         "30556000.0",
         "2023-12-11 00:00:00",
         "103.9800033569336",
         "2023-01-06 00:00:00",
         "45.93199920654297",
         "49.97999954223633",
         "98.88999938964844"
        ],
        [
         "3",
         "2024",
         "2024-08-05 00:00:00",
         "0.03321580075766039",
         "2024-08-02 00:00:00",
         "0.0834566235062919",
         "2024-05-02 00:00:00",
         "-0.1031696345546329",
         "2024-05-02 00:00:00",
         "22134800.0",
         "2024-12-17 00:00:00",
         "181.77999877929688",
         "2024-01-04 00:00:00",
         "93.33000183105467",
         "97.8000030517578",
         "167.75"
        ],
        [
         "4",
         "2025",
         "2025-04-24 00:00:00",
         "0.04763737168254249",
         "2025-04-09 00:00:00",
         "0.13773756760817313",
         "2025-04-03 00:00:00",
         "-0.08063405287627967",
         "2025-03-21 00:00:00",
         "73637400.0",
         "2025-06-06 00:00:00",
         "220.8800048828125",
         "2025-04-07 00:00:00",
         "155.39999389648438",
         "168.7899932861328",
         "218.1199951171875"
        ]
       ],
       "shape": {
        "columns": 15,
        "rows": 5
       }
      },
      "text/html": [
       "<div>\n",
       "<style scoped>\n",
       "    .dataframe tbody tr th:only-of-type {\n",
       "        vertical-align: middle;\n",
       "    }\n",
       "\n",
       "    .dataframe tbody tr th {\n",
       "        vertical-align: top;\n",
       "    }\n",
       "\n",
       "    .dataframe thead th {\n",
       "        text-align: right;\n",
       "    }\n",
       "</style>\n",
       "<table border=\"1\" class=\"dataframe\">\n",
       "  <thead>\n",
       "    <tr style=\"text-align: right;\">\n",
       "      <th></th>\n",
       "      <th>Year</th>\n",
       "      <th>Highest Volatility Date</th>\n",
       "      <th>Highest Volatility Value</th>\n",
       "      <th>Largest Surge Date</th>\n",
       "      <th>Largest Surge Return</th>\n",
       "      <th>Largest Drop Date</th>\n",
       "      <th>Largest Drop Return</th>\n",
       "      <th>Highest Volume Date</th>\n",
       "      <th>Highest Volume</th>\n",
       "      <th>Highest High Date</th>\n",
       "      <th>Highest High Value</th>\n",
       "      <th>Lowest Low Date</th>\n",
       "      <th>Lowest Low Value</th>\n",
       "      <th>Annual Open Price</th>\n",
       "      <th>Annual Close Price</th>\n",
       "    </tr>\n",
       "  </thead>\n",
       "  <tbody>\n",
       "    <tr>\n",
       "      <th>0</th>\n",
       "      <td>2021</td>\n",
       "      <td>2021-05-19</td>\n",
       "      <td>0.067188</td>\n",
       "      <td>2021-05-14</td>\n",
       "      <td>0.221491</td>\n",
       "      <td>2021-02-22</td>\n",
       "      <td>-0.135457</td>\n",
       "      <td>2021-03-09</td>\n",
       "      <td>20400000.0</td>\n",
       "      <td>2021-11-15</td>\n",
       "      <td>257.250000</td>\n",
       "      <td>2021-05-13</td>\n",
       "      <td>110.129997</td>\n",
       "      <td>140.000000</td>\n",
       "      <td>148.899994</td>\n",
       "    </tr>\n",
       "    <tr>\n",
       "      <th>1</th>\n",
       "      <td>2022</td>\n",
       "      <td>2022-06-01</td>\n",
       "      <td>0.080631</td>\n",
       "      <td>2022-03-16</td>\n",
       "      <td>0.134512</td>\n",
       "      <td>2022-05-11</td>\n",
       "      <td>-0.131621</td>\n",
       "      <td>2022-02-17</td>\n",
       "      <td>47405700.0</td>\n",
       "      <td>2022-01-12</td>\n",
       "      <td>152.494995</td>\n",
       "      <td>2022-10-24</td>\n",
       "      <td>41.365002</td>\n",
       "      <td>149.610001</td>\n",
       "      <td>48.820000</td>\n",
       "    </tr>\n",
       "    <tr>\n",
       "      <th>2</th>\n",
       "      <td>2023</td>\n",
       "      <td>2023-02-23</td>\n",
       "      <td>0.047312</td>\n",
       "      <td>2023-11-02</td>\n",
       "      <td>0.156653</td>\n",
       "      <td>2023-02-17</td>\n",
       "      <td>-0.075946</td>\n",
       "      <td>2023-12-15</td>\n",
       "      <td>30556000.0</td>\n",
       "      <td>2023-12-11</td>\n",
       "      <td>103.980003</td>\n",
       "      <td>2023-01-06</td>\n",
       "      <td>45.931999</td>\n",
       "      <td>49.980000</td>\n",
       "      <td>98.889999</td>\n",
       "    </tr>\n",
       "    <tr>\n",
       "      <th>3</th>\n",
       "      <td>2024</td>\n",
       "      <td>2024-08-05</td>\n",
       "      <td>0.033216</td>\n",
       "      <td>2024-08-02</td>\n",
       "      <td>0.083457</td>\n",
       "      <td>2024-05-02</td>\n",
       "      <td>-0.103170</td>\n",
       "      <td>2024-05-02</td>\n",
       "      <td>22134800.0</td>\n",
       "      <td>2024-12-17</td>\n",
       "      <td>181.779999</td>\n",
       "      <td>2024-01-04</td>\n",
       "      <td>93.330002</td>\n",
       "      <td>97.800003</td>\n",
       "      <td>167.750000</td>\n",
       "    </tr>\n",
       "    <tr>\n",
       "      <th>4</th>\n",
       "      <td>2025</td>\n",
       "      <td>2025-04-24</td>\n",
       "      <td>0.047637</td>\n",
       "      <td>2025-04-09</td>\n",
       "      <td>0.137738</td>\n",
       "      <td>2025-04-03</td>\n",
       "      <td>-0.080634</td>\n",
       "      <td>2025-03-21</td>\n",
       "      <td>73637400.0</td>\n",
       "      <td>2025-06-06</td>\n",
       "      <td>220.880005</td>\n",
       "      <td>2025-04-07</td>\n",
       "      <td>155.399994</td>\n",
       "      <td>168.789993</td>\n",
       "      <td>218.119995</td>\n",
       "    </tr>\n",
       "  </tbody>\n",
       "</table>\n",
       "</div>"
      ],
      "text/plain": [
       "   Year Highest Volatility Date  Highest Volatility Value Largest Surge Date  \\\n",
       "0  2021              2021-05-19                  0.067188         2021-05-14   \n",
       "1  2022              2022-06-01                  0.080631         2022-03-16   \n",
       "2  2023              2023-02-23                  0.047312         2023-11-02   \n",
       "3  2024              2024-08-05                  0.033216         2024-08-02   \n",
       "4  2025              2025-04-24                  0.047637         2025-04-09   \n",
       "\n",
       "   Largest Surge Return Largest Drop Date  Largest Drop Return  \\\n",
       "0              0.221491        2021-02-22            -0.135457   \n",
       "1              0.134512        2022-05-11            -0.131621   \n",
       "2              0.156653        2023-02-17            -0.075946   \n",
       "3              0.083457        2024-05-02            -0.103170   \n",
       "4              0.137738        2025-04-03            -0.080634   \n",
       "\n",
       "  Highest Volume Date  Highest Volume Highest High Date  Highest High Value  \\\n",
       "0          2021-03-09      20400000.0        2021-11-15          257.250000   \n",
       "1          2022-02-17      47405700.0        2022-01-12          152.494995   \n",
       "2          2023-12-15      30556000.0        2023-12-11          103.980003   \n",
       "3          2024-05-02      22134800.0        2024-12-17          181.779999   \n",
       "4          2025-03-21      73637400.0        2025-06-06          220.880005   \n",
       "\n",
       "  Lowest Low Date  Lowest Low Value  Annual Open Price  Annual Close Price  \n",
       "0      2021-05-13        110.129997         140.000000          148.899994  \n",
       "1      2022-10-24         41.365002         149.610001           48.820000  \n",
       "2      2023-01-06         45.931999          49.980000           98.889999  \n",
       "3      2024-01-04         93.330002          97.800003          167.750000  \n",
       "4      2025-04-07        155.399994         168.789993          218.119995  "
      ]
     },
     "execution_count": 9,
     "metadata": {},
     "output_type": "execute_result"
    }
   ],
   "source": [
    "key_dates_df = highest_vol \\\n",
    "    .merge(largest_surge, on=\"Year\") \\\n",
    "    .merge(largest_drop, on=\"Year\") \\\n",
    "    .merge(highest_volume, on=\"Year\") \\\n",
    "    .merge(highest_high, on=\"Year\") \\\n",
    "    .merge(lowest_low, on=\"Year\") \\\n",
    "    .merge(annual_open, on=\"Year\") \\\n",
    "    .merge(annual_close, on=\"Year\")\n",
    "\n",
    "key_dates_df\n"
   ]
  }
 ],
 "metadata": {
  "kernelspec": {
   "display_name": "Python 3",
   "language": "python",
   "name": "python3"
  },
  "language_info": {
   "codemirror_mode": {
    "name": "ipython",
    "version": 3
   },
   "file_extension": ".py",
   "mimetype": "text/x-python",
   "name": "python",
   "nbconvert_exporter": "python",
   "pygments_lexer": "ipython3",
   "version": "3.12.1"
  }
 },
 "nbformat": 4,
 "nbformat_minor": 2
}
